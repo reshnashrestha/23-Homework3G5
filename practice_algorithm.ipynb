{
  "nbformat": 4,
  "nbformat_minor": 0,
  "metadata": {
    "colab": {
      "provenance": [],
      "authorship_tag": "ABX9TyOiqf7Gw6sRtfmRaejU2R7/",
      "include_colab_link": true
    },
    "kernelspec": {
      "name": "python3",
      "display_name": "Python 3"
    },
    "language_info": {
      "name": "python"
    }
  },
  "cells": [
    {
      "cell_type": "markdown",
      "metadata": {
        "id": "view-in-github",
        "colab_type": "text"
      },
      "source": [
        "<a href=\"https://colab.research.google.com/github/reshnashrestha/23-Homework3G5/blob/Practice_algorithm/practice_algorithm.ipynb\" target=\"_parent\"><img src=\"https://colab.research.google.com/assets/colab-badge.svg\" alt=\"Open In Colab\"/></a>"
      ]
    },
    {
      "cell_type": "code",
      "execution_count": 1,
      "metadata": {
        "colab": {
          "base_uri": "https://localhost:8080/"
        },
        "id": "o4gycdTmHMCv",
        "outputId": "5bb987c6-3fff-4719-d03d-bf73918a6bc9"
      },
      "outputs": [
        {
          "output_type": "stream",
          "name": "stdout",
          "text": [
            "Horizontal distance traveled: 1019.65 meters\n"
          ]
        }
      ],
      "source": [
        "import numpy as np\n",
        "\n",
        "# Constants\n",
        "g = 9.81  # Acceleration due to gravity (m/s^2)\n",
        "k = 0.1   # Air resistance constant (kg/s)\n",
        "m = 1.0   # Mass of the projectile (kg)\n",
        "\n",
        "# Initial conditions\n",
        "x0, y0 = 0.0, 0.0  # Initial position (m)\n",
        "v0 = 100.0         # Initial velocity (m/s)\n",
        "theta = np.radians(45)  # Launch angle in radians\n",
        "\n",
        "# Calculate initial horizontal and vertical velocities\n",
        "v0x = v0 * np.cos(theta)\n",
        "v0y = v0 * np.sin(theta)\n",
        "\n",
        "# Time values\n",
        "t_max = 20  # Maximum simulation time (s)\n",
        "dt = 0.01   # Time step (s)\n",
        "t_values = np.arange(0, t_max, dt)\n",
        "\n",
        "# Define functions for horizontal and vertical motion\n",
        "def horizontal_motion(vx, t):\n",
        "    return vx - (k/m) * vx * t\n",
        "\n",
        "def vertical_motion(vy, t):\n",
        "    return vy - g * t - (k/m) * vy * t\n",
        "\n",
        "# Use functional programming to update velocities over time\n",
        "vx_values = np.array(list(map(lambda t: x0 + v0x * t, t_values)))\n",
        "vy_values = np.array(list(map(lambda t: y0 + v0y * t - 0.5 * g * t**2, t_values)))\n",
        "\n",
        "# Find the index when the projectile hits the ground (y = 0)\n",
        "ground_index = np.argmax(vy_values < 0)\n",
        "\n",
        "# Calculate the horizontal distance traveled\n",
        "x_final = vx_values[ground_index]\n",
        "\n",
        "print(f\"Horizontal distance traveled: {x_final:.2f} meters\")"
      ]
    },
    {
      "cell_type": "code",
      "source": [],
      "metadata": {
        "id": "Y8popM84HNXu"
      },
      "execution_count": null,
      "outputs": []
    }
  ]
}