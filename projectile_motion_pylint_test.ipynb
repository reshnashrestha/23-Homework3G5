{
  "cells": [
    {
      "cell_type": "markdown",
      "metadata": {
        "colab_type": "text",
        "id": "view-in-github"
      },
      "source": [
        "<a href=\"https://colab.research.google.com/github/reshnashrestha/23-Homework3G5/blob/main_documentation/projectile_motion_pylint_test.ipynb\" target=\"_parent\"><img src=\"https://colab.research.google.com/assets/colab-badge.svg\" alt=\"Open In Colab\"/></a>"
      ]
    },
    {
      "cell_type": "code",
      "execution_count": 1,
      "metadata": {
        "colab": {
          "base_uri": "https://localhost:8080/"
        },
        "id": "fdIls2zEzGjM",
        "outputId": "7158226c-6bb8-422d-eb89-f635fc547d9a"
      },
      "outputs": [
        {
          "name": "stdout",
          "output_type": "stream",
          "text": [
            "Mounted at /content/drive\n"
          ]
        }
      ],
      "source": [
        "from google.colab import drive\n",
        "drive.mount(\"/content/drive\")"
      ]
    },
    {
      "cell_type": "code",
      "execution_count": 2,
      "metadata": {
        "colab": {
          "base_uri": "https://localhost:8080/"
        },
        "id": "qI4-baNT0Kdy",
        "outputId": "f4325557-655a-4cf0-b056-d937db47fb5b"
      },
      "outputs": [
        {
          "name": "stdout",
          "output_type": "stream",
          "text": [
            "\u001b[2K     \u001b[90m━━━━━━━━━━━━━━━━━━━━━━━━━━━━━━━━━━━━━━━━\u001b[0m \u001b[32m1.6/1.6 MB\u001b[0m \u001b[31m17.6 MB/s\u001b[0m eta \u001b[36m0:00:00\u001b[0m\n",
            "\u001b[2K     \u001b[90m━━━━━━━━━━━━━━━━━━━━━━━━━━━━━━━━━━━━━━━━\u001b[0m \u001b[32m1.6/1.6 MB\u001b[0m \u001b[31m72.9 MB/s\u001b[0m eta \u001b[36m0:00:00\u001b[0m\n",
            "\u001b[2K     \u001b[90m━━━━━━━━━━━━━━━━━━━━━━━━━━━━━━━━━━━━━━━━\u001b[0m \u001b[32m58.3/58.3 kB\u001b[0m \u001b[31m3.1 MB/s\u001b[0m eta \u001b[36m0:00:00\u001b[0m\n",
            "\u001b[2K     \u001b[90m━━━━━━━━━━━━━━━━━━━━━━━━━━━━━━━━━━━━━━\u001b[0m \u001b[32m510.1/510.1 kB\u001b[0m \u001b[31m15.0 MB/s\u001b[0m eta \u001b[36m0:00:00\u001b[0m\n",
            "\u001b[2K     \u001b[90m━━━━━━━━━━━━━━━━━━━━━━━━━━━━━━━━━━━━━━━━\u001b[0m \u001b[32m45.3/45.3 kB\u001b[0m \u001b[31m5.4 MB/s\u001b[0m eta \u001b[36m0:00:00\u001b[0m\n",
            "\u001b[2K     \u001b[90m━━━━━━━━━━━━━━━━━━━━━━━━━━━━━━━━━━━━━━━━\u001b[0m \u001b[32m62.6/62.6 kB\u001b[0m \u001b[31m8.6 MB/s\u001b[0m eta \u001b[36m0:00:00\u001b[0m\n",
            "\u001b[2K     \u001b[90m━━━━━━━━━━━━━━━━━━━━━━━━━━━━━━━━━━━━━━\u001b[0m \u001b[32m275.1/275.1 kB\u001b[0m \u001b[31m25.0 MB/s\u001b[0m eta \u001b[36m0:00:00\u001b[0m\n",
            "\u001b[2K     \u001b[90m━━━━━━━━━━━━━━━━━━━━━━━━━━━━━━━━━━━━━━━━\u001b[0m \u001b[32m91.2/91.2 kB\u001b[0m \u001b[31m10.4 MB/s\u001b[0m eta \u001b[36m0:00:00\u001b[0m\n",
            "\u001b[2K     \u001b[90m━━━━━━━━━━━━━━━━━━━━━━━━━━━━━━━━━━━━━━\u001b[0m \u001b[32m115.3/115.3 kB\u001b[0m \u001b[31m12.5 MB/s\u001b[0m eta \u001b[36m0:00:00\u001b[0m\n",
            "\u001b[?25h"
          ]
        }
      ],
      "source": [
        "!pip install black[jupyter] --quiet\n",
        "!pip install nbqa flake8 pylint --quiet"
      ]
    },
    {
      "cell_type": "code",
      "execution_count": 4,
      "metadata": {
        "colab": {
          "base_uri": "https://localhost:8080/"
        },
        "id": "XyqHzS3K0ab3",
        "outputId": "684409bf-53b7-4867-ca68-feacf0671c12"
      },
      "outputs": [
        {
          "name": "stdout",
          "output_type": "stream",
          "text": [
            "drive/MyDrive/Colab Notebooks/projectile_motion_pylint_test.ipynb:cell_4:1:1: E402 module level import not at top of file\n",
            "drive/MyDrive/Colab Notebooks/projectile_motion_pylint_test.ipynb:cell_4:2:1: E402 module level import not at top of file\n",
            "drive/MyDrive/Colab Notebooks/projectile_motion_pylint_test.ipynb:cell_4:5:9: E261 at least two spaces before inline comment\n",
            "drive/MyDrive/Colab Notebooks/projectile_motion_pylint_test.ipynb:cell_4:6:9: E261 at least two spaces before inline comment\n",
            "drive/MyDrive/Colab Notebooks/projectile_motion_pylint_test.ipynb:cell_4:8:12: E261 at least two spaces before inline comment\n",
            "drive/MyDrive/Colab Notebooks/projectile_motion_pylint_test.ipynb:cell_4:9:12: E261 at least two spaces before inline comment\n",
            "drive/MyDrive/Colab Notebooks/projectile_motion_pylint_test.ipynb:cell_4:9:13: E262 inline comment should start with '# '\n",
            "drive/MyDrive/Colab Notebooks/projectile_motion_pylint_test.ipynb:cell_4:11:19: E261 at least two spaces before inline comment\n",
            "drive/MyDrive/Colab Notebooks/projectile_motion_pylint_test.ipynb:cell_4:13:16: E261 at least two spaces before inline comment\n",
            "drive/MyDrive/Colab Notebooks/projectile_motion_pylint_test.ipynb:cell_4:15:19: E231 missing whitespace after ','\n",
            "drive/MyDrive/Colab Notebooks/projectile_motion_pylint_test.ipynb:cell_4:15:22: E231 missing whitespace after ','\n",
            "drive/MyDrive/Colab Notebooks/projectile_motion_pylint_test.ipynb:cell_4:15:25: E231 missing whitespace after ','\n",
            "drive/MyDrive/Colab Notebooks/projectile_motion_pylint_test.ipynb:cell_4:15:28: E231 missing whitespace after ','\n",
            "drive/MyDrive/Colab Notebooks/projectile_motion_pylint_test.ipynb:cell_4:15:31: E231 missing whitespace after ','\n",
            "drive/MyDrive/Colab Notebooks/projectile_motion_pylint_test.ipynb:cell_4:15:35: E261 at least two spaces before inline comment\n",
            "drive/MyDrive/Colab Notebooks/projectile_motion_pylint_test.ipynb:cell_4:16:60: E261 at least two spaces before inline comment\n",
            "drive/MyDrive/Colab Notebooks/projectile_motion_pylint_test.ipynb:cell_4:16:61: E262 inline comment should start with '# '\n",
            "drive/MyDrive/Colab Notebooks/projectile_motion_pylint_test.ipynb:cell_4:16:80: E501 line too long (92 > 79 characters)\n",
            "drive/MyDrive/Colab Notebooks/projectile_motion_pylint_test.ipynb:cell_4:18:7: E225 missing whitespace around operator\n",
            "drive/MyDrive/Colab Notebooks/projectile_motion_pylint_test.ipynb:cell_4:18:10: E261 at least two spaces before inline comment\n",
            "drive/MyDrive/Colab Notebooks/projectile_motion_pylint_test.ipynb:cell_4:18:11: E262 inline comment should start with '# '\n",
            "drive/MyDrive/Colab Notebooks/projectile_motion_pylint_test.ipynb:cell_4:19:7: E225 missing whitespace around operator\n",
            "drive/MyDrive/Colab Notebooks/projectile_motion_pylint_test.ipynb:cell_4:19:10: E261 at least two spaces before inline comment\n",
            "drive/MyDrive/Colab Notebooks/projectile_motion_pylint_test.ipynb:cell_4:19:11: E262 inline comment should start with '# '\n",
            "drive/MyDrive/Colab Notebooks/projectile_motion_pylint_test.ipynb:cell_4:21:28: E261 at least two spaces before inline comment\n",
            "drive/MyDrive/Colab Notebooks/projectile_motion_pylint_test.ipynb:cell_4:23:3: E111 indentation is not a multiple of 4\n",
            "drive/MyDrive/Colab Notebooks/projectile_motion_pylint_test.ipynb:cell_4:23:36: E261 at least two spaces before inline comment\n",
            "drive/MyDrive/Colab Notebooks/projectile_motion_pylint_test.ipynb:cell_4:24:3: E111 indentation is not a multiple of 4\n",
            "drive/MyDrive/Colab Notebooks/projectile_motion_pylint_test.ipynb:cell_4:24:36: E261 at least two spaces before inline comment\n",
            "drive/MyDrive/Colab Notebooks/projectile_motion_pylint_test.ipynb:cell_4:26:3: E111 indentation is not a multiple of 4\n",
            "drive/MyDrive/Colab Notebooks/projectile_motion_pylint_test.ipynb:cell_4:26:4: E225 missing whitespace around operator\n",
            "drive/MyDrive/Colab Notebooks/projectile_motion_pylint_test.ipynb:cell_4:26:14: E261 at least two spaces before inline comment\n",
            "drive/MyDrive/Colab Notebooks/projectile_motion_pylint_test.ipynb:cell_4:27:3: E111 indentation is not a multiple of 4\n",
            "drive/MyDrive/Colab Notebooks/projectile_motion_pylint_test.ipynb:cell_4:27:4: E225 missing whitespace around operator\n",
            "drive/MyDrive/Colab Notebooks/projectile_motion_pylint_test.ipynb:cell_4:27:14: E261 at least two spaces before inline comment\n",
            "drive/MyDrive/Colab Notebooks/projectile_motion_pylint_test.ipynb:cell_4:29:3: E111 indentation is not a multiple of 4\n",
            "drive/MyDrive/Colab Notebooks/projectile_motion_pylint_test.ipynb:cell_4:29:8: E261 at least two spaces before inline comment\n",
            "drive/MyDrive/Colab Notebooks/projectile_motion_pylint_test.ipynb:cell_4:31:3: E111 indentation is not a multiple of 4\n",
            "drive/MyDrive/Colab Notebooks/projectile_motion_pylint_test.ipynb:cell_4:31:14: E225 missing whitespace around operator\n",
            "drive/MyDrive/Colab Notebooks/projectile_motion_pylint_test.ipynb:cell_4:31:18: E261 at least two spaces before inline comment\n",
            "drive/MyDrive/Colab Notebooks/projectile_motion_pylint_test.ipynb:cell_4:32:25: E261 at least two spaces before inline comment\n",
            "drive/MyDrive/Colab Notebooks/projectile_motion_pylint_test.ipynb:cell_4:33:25: E261 at least two spaces before inline comment\n",
            "drive/MyDrive/Colab Notebooks/projectile_motion_pylint_test.ipynb:cell_4:34:7: E225 missing whitespace around operator\n",
            "drive/MyDrive/Colab Notebooks/projectile_motion_pylint_test.ipynb:cell_4:34:49: E261 at least two spaces before inline comment\n",
            "drive/MyDrive/Colab Notebooks/projectile_motion_pylint_test.ipynb:cell_4:35:7: E225 missing whitespace around operator\n",
            "drive/MyDrive/Colab Notebooks/projectile_motion_pylint_test.ipynb:cell_4:35:53: E261 at least two spaces before inline comment\n",
            "drive/MyDrive/Colab Notebooks/projectile_motion_pylint_test.ipynb:cell_4:36:6: E225 missing whitespace around operator\n",
            "drive/MyDrive/Colab Notebooks/projectile_motion_pylint_test.ipynb:cell_4:36:10: E261 at least two spaces before inline comment\n",
            "drive/MyDrive/Colab Notebooks/projectile_motion_pylint_test.ipynb:cell_4:38:3: E114 indentation is not a multiple of 4 (comment)\n",
            "drive/MyDrive/Colab Notebooks/projectile_motion_pylint_test.ipynb:cell_4:38:3: E265 block comment should start with '# '\n",
            "drive/MyDrive/Colab Notebooks/projectile_motion_pylint_test.ipynb:cell_4:39:3: E111 indentation is not a multiple of 4\n",
            "drive/MyDrive/Colab Notebooks/projectile_motion_pylint_test.ipynb:cell_4:40:3: E111 indentation is not a multiple of 4\n",
            "drive/MyDrive/Colab Notebooks/projectile_motion_pylint_test.ipynb:cell_4:41:3: E111 indentation is not a multiple of 4\n",
            "drive/MyDrive/Colab Notebooks/projectile_motion_pylint_test.ipynb:cell_4:41:8: E225 missing whitespace around operator\n",
            "drive/MyDrive/Colab Notebooks/projectile_motion_pylint_test.ipynb:cell_4:43:3: E114 indentation is not a multiple of 4 (comment)\n",
            "drive/MyDrive/Colab Notebooks/projectile_motion_pylint_test.ipynb:cell_4:44:3: E111 indentation is not a multiple of 4\n",
            "drive/MyDrive/Colab Notebooks/projectile_motion_pylint_test.ipynb:cell_4:45:3: E111 indentation is not a multiple of 4\n",
            "drive/MyDrive/Colab Notebooks/projectile_motion_pylint_test.ipynb:cell_4:47:1: E265 block comment should start with '# '\n",
            "drive/MyDrive/Colab Notebooks/projectile_motion_pylint_test.ipynb:cell_4:49:8: E225 missing whitespace around operator\n",
            "drive/MyDrive/Colab Notebooks/projectile_motion_pylint_test.ipynb:cell_4:49:18: E231 missing whitespace after ','\n",
            "drive/MyDrive/Colab Notebooks/projectile_motion_pylint_test.ipynb:cell_4:49:25: E231 missing whitespace after ','\n",
            "drive/MyDrive/Colab Notebooks/projectile_motion_pylint_test.ipynb:cell_4:49:33: E231 missing whitespace after ','\n",
            "drive/MyDrive/Colab Notebooks/projectile_motion_pylint_test.ipynb:cell_4:49:42: E231 missing whitespace after ','\n",
            "drive/MyDrive/Colab Notebooks/projectile_motion_pylint_test.ipynb:cell_4:49:51: E231 missing whitespace after ','\n",
            "drive/MyDrive/Colab Notebooks/projectile_motion_pylint_test.ipynb:cell_4:49:58: E261 at least two spaces before inline comment\n",
            "drive/MyDrive/Colab Notebooks/projectile_motion_pylint_test.ipynb:cell_4:50:22: E231 missing whitespace after ','\n",
            "drive/MyDrive/Colab Notebooks/projectile_motion_pylint_test.ipynb:cell_4:50:26: E261 at least two spaces before inline comment\n",
            "drive/MyDrive/Colab Notebooks/projectile_motion_pylint_test.ipynb:cell_4:51:29: E261 at least two spaces before inline comment\n",
            "drive/MyDrive/Colab Notebooks/projectile_motion_pylint_test.ipynb:cell_4:52:55: E231 missing whitespace after ','\n",
            "drive/MyDrive/Colab Notebooks/projectile_motion_pylint_test.ipynb:cell_4:52:80: E501 line too long (120 > 79 characters)\n",
            "drive/MyDrive/Colab Notebooks/projectile_motion_pylint_test.ipynb:cell_4:52:95: E261 at least two spaces before inline comment\n",
            "drive/MyDrive/Colab Notebooks/projectile_motion_pylint_test.ipynb:cell_4:53:29: E231 missing whitespace after ','\n",
            "drive/MyDrive/Colab Notebooks/projectile_motion_pylint_test.ipynb:cell_4:53:33: E231 missing whitespace after ','\n",
            "drive/MyDrive/Colab Notebooks/projectile_motion_pylint_test.ipynb:cell_4:53:74: E261 at least two spaces before inline comment\n",
            "drive/MyDrive/Colab Notebooks/projectile_motion_pylint_test.ipynb:cell_4:53:80: E501 line too long (95 > 79 characters)\n"
          ]
        }
      ],
      "source": [
        "!nbqa flake8 /content/drive/MyDrive/'Colab Notebooks'/'projectile_motion_pylint_test.ipynb'"
      ]
    },
    {
      "cell_type": "code",
      "execution_count": 5,
      "metadata": {
        "colab": {
          "base_uri": "https://localhost:8080/"
        },
        "id": "HO1W05Kc3B4r",
        "outputId": "2e64fba7-2189-43a8-ee39-5e8ff02918b8"
      },
      "outputs": [
        {
          "name": "stdout",
          "output_type": "stream",
          "text": [
            "Collecting ipytest\n",
            "  Downloading ipytest-0.13.3-py3-none-any.whl (14 kB)\n",
            "Requirement already satisfied: ipython in /usr/local/lib/python3.10/dist-packages (from ipytest) (7.34.0)\n",
            "Requirement already satisfied: packaging in /usr/local/lib/python3.10/dist-packages (from ipytest) (23.1)\n",
            "Requirement already satisfied: pytest>=5.4 in /usr/local/lib/python3.10/dist-packages (from ipytest) (7.4.2)\n",
            "Requirement already satisfied: iniconfig in /usr/local/lib/python3.10/dist-packages (from pytest>=5.4->ipytest) (2.0.0)\n",
            "Requirement already satisfied: pluggy<2.0,>=0.12 in /usr/local/lib/python3.10/dist-packages (from pytest>=5.4->ipytest) (1.3.0)\n",
            "Requirement already satisfied: exceptiongroup>=1.0.0rc8 in /usr/local/lib/python3.10/dist-packages (from pytest>=5.4->ipytest) (1.1.3)\n",
            "Requirement already satisfied: tomli>=1.0.0 in /usr/local/lib/python3.10/dist-packages (from pytest>=5.4->ipytest) (2.0.1)\n",
            "Requirement already satisfied: setuptools>=18.5 in /usr/local/lib/python3.10/dist-packages (from ipython->ipytest) (67.7.2)\n",
            "Requirement already satisfied: jedi>=0.16 in /usr/local/lib/python3.10/dist-packages (from ipython->ipytest) (0.19.1)\n",
            "Requirement already satisfied: decorator in /usr/local/lib/python3.10/dist-packages (from ipython->ipytest) (4.4.2)\n",
            "Requirement already satisfied: pickleshare in /usr/local/lib/python3.10/dist-packages (from ipython->ipytest) (0.7.5)\n",
            "Requirement already satisfied: traitlets>=4.2 in /usr/local/lib/python3.10/dist-packages (from ipython->ipytest) (5.7.1)\n",
            "Requirement already satisfied: prompt-toolkit!=3.0.0,!=3.0.1,<3.1.0,>=2.0.0 in /usr/local/lib/python3.10/dist-packages (from ipython->ipytest) (3.0.39)\n",
            "Requirement already satisfied: pygments in /usr/local/lib/python3.10/dist-packages (from ipython->ipytest) (2.16.1)\n",
            "Requirement already satisfied: backcall in /usr/local/lib/python3.10/dist-packages (from ipython->ipytest) (0.2.0)\n",
            "Requirement already satisfied: matplotlib-inline in /usr/local/lib/python3.10/dist-packages (from ipython->ipytest) (0.1.6)\n",
            "Requirement already satisfied: pexpect>4.3 in /usr/local/lib/python3.10/dist-packages (from ipython->ipytest) (4.8.0)\n",
            "Requirement already satisfied: parso<0.9.0,>=0.8.3 in /usr/local/lib/python3.10/dist-packages (from jedi>=0.16->ipython->ipytest) (0.8.3)\n",
            "Requirement already satisfied: ptyprocess>=0.5 in /usr/local/lib/python3.10/dist-packages (from pexpect>4.3->ipython->ipytest) (0.7.0)\n",
            "Requirement already satisfied: wcwidth in /usr/local/lib/python3.10/dist-packages (from prompt-toolkit!=3.0.0,!=3.0.1,<3.1.0,>=2.0.0->ipython->ipytest) (0.2.7)\n",
            "Installing collected packages: ipytest\n",
            "Successfully installed ipytest-0.13.3\n"
          ]
        }
      ],
      "source": [
        "!pip install ipytest"
      ]
    },
    {
      "cell_type": "code",
      "execution_count": 6,
      "metadata": {
        "id": "VDsoq9UF3XVg"
      },
      "outputs": [],
      "source": [
        "import ipytest\n",
        "ipytest.autoconfig()"
      ]
    },
    {
      "cell_type": "code",
      "execution_count": 8,
      "metadata": {
        "colab": {
          "base_uri": "https://localhost:8080/",
          "height": 599
        },
        "id": "8zH9zvpL0mYm",
        "outputId": "362e0851-5447-4ae9-e6b9-e8b4ae76eead"
      },
      "outputs": [
        {
          "data": {
            "image/png": "[encoded data removed]",
            "text/plain": [
              "<Figure size 800x600 with 1 Axes>"
            ]
          },
          "metadata": {},
          "output_type": "display_data"
        },
        {
          "name": "stdout",
          "output_type": "stream",
          "text": [
            "\n",
            "\u001b[33m\u001b[33mno tests ran\u001b[0m\u001b[33m in 0.00s\u001b[0m\u001b[0m\n"
          ]
        }
      ],
      "source": [
        "%%ipytest\n",
        "import math\n",
        "import matplotlib.pyplot as plt\n",
        "\n",
        "g = 9.81 # m / s^2\n",
        "dt = 0.5 # time step in seconds\n",
        "\n",
        "x_start = 0 # starting x position\n",
        "y_start = 0 #starting y position\n",
        "\n",
        "const = 4*(10**-5) # Air Drag B_2 constant (1 / meter)\n",
        "\n",
        "v_initial = 700 # meters per second\n",
        "\n",
        "angle_degree = [30,35,40,45,50,55] # launch angle in degree\n",
        "angle = [math.radians(degrees) for degrees in angle_degree] #convert launch angle to radians\n",
        "\n",
        "x_list=[] #list to store x postions\n",
        "y_list=[] #list to store y postions\n",
        "\n",
        "for j in range(len(angle)): # loop over launc angles\n",
        "\n",
        "  vx = v_initial*math.cos(angle[j]) # intial x velocity\n",
        "  vy = v_initial*math.sin(angle[j]) # initial y velocity\n",
        "\n",
        "  x=[x_start] # list to store x postions\n",
        "  y=[y_start] # list to store y postions\n",
        "\n",
        "  i = 0 # index for while loop\n",
        "\n",
        "  while y[-1]>=0: # loop ta calculate x and y positions\n",
        "    x.append(x[i]+vx*dt) # calculate and save x\n",
        "    y.append(y[i]+vy*dt) # calculate and save y\n",
        "    vx=vx-const*dt*vx*math.sqrt((vx**2)+(vy**2)) # update x velocity\n",
        "    vy=vy-dt*(g+const*vy*math.sqrt((vx**2)+(vy**2))) # update y velocity\n",
        "    i=i+1 # update index\n",
        "\n",
        "  #interpolate between last two points to determine final position\n",
        "  r = -y[-2]/y[-1]\n",
        "  x[-1] = (x[-2]+r*x[-1])/(r+1)\n",
        "  y[-1]=0.0\n",
        "\n",
        "  # saving x and y positions\n",
        "  x_list.append(x)\n",
        "  y_list.append(y)\n",
        "\n",
        "#plotting\n",
        "\n",
        "colours=[\"purple\",\"blue\",\"green\",\"yellow\",\"orange\",\"red\"] # list of colours\n",
        "plt.figure(figsize=(8,6)) # set plot size\n",
        "for i in range(len(x_list)): # plotting trajectory for each launch angle\n",
        "    plt.scatter(list(map(lambda z: z/1000, x_list[i])),list(map(lambda z: z/1000, y_list[i])), # converting from m to km\n",
        "                c=colours[i],s=1,label='θ = {}°'.format(angle_degree[i])) # colours and legends\n",
        "plt.xlabel('x (km)')\n",
        "plt.ylabel('y (km)')\n",
        "plt.legend()\n",
        "plt.title(\"Projectile Motion with Air Drag\")\n",
        "plt.show()"
      ]
    }
  ],
  "metadata": {
    "colab": {
      "authorship_tag": "ABX9TyM8uFnaCX45liAN9uTm/I9D",
      "include_colab_link": true,
      "provenance": []
    },
    "kernelspec": {
      "display_name": "Python 3",
      "name": "python3"
    },
    "language_info": {
      "name": "python",
      "version": "3.11.5"
    }
  },
  "nbformat": 4,
  "nbformat_minor": 0
}
